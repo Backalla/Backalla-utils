{
 "cells": [
  {
   "cell_type": "code",
   "execution_count": 1,
   "metadata": {},
   "outputs": [],
   "source": [
    "from backalla_utils.misc import recursive_ls"
   ]
  },
  {
   "cell_type": "code",
   "execution_count": 5,
   "metadata": {},
   "outputs": [
    {
     "name": "stdout",
     "output_type": "stream",
     "text": [
      "./backalla_utils/misc.py\n",
      "./backalla_utils/mongo.py\n",
      "./backalla_utils/__init__.py\n",
      "./backalla_utils/image.py\n",
      "./backalla_utils/__pycache__/image.cpython-36.pyc\n",
      "./backalla_utils/__pycache__/__init__.cpython-36.pyc\n",
      "./backalla_utils/__pycache__/misc.cpython-36.pyc\n"
     ]
    }
   ],
   "source": [
    "r = recursive_ls(path=\"./backalla_utils/\",get_generator=False,filter=\"*.p*\")\n",
    "\n",
    "for l in r:\n",
    "    print(l)"
   ]
  },
  {
   "cell_type": "code",
   "execution_count": null,
   "metadata": {},
   "outputs": [],
   "source": []
  }
 ],
 "metadata": {
  "kernelspec": {
   "display_name": "Python 3",
   "language": "python",
   "name": "python3"
  },
  "language_info": {
   "codemirror_mode": {
    "name": "ipython",
    "version": 3
   },
   "file_extension": ".py",
   "mimetype": "text/x-python",
   "name": "python",
   "nbconvert_exporter": "python",
   "pygments_lexer": "ipython3",
   "version": "3.6.5"
  }
 },
 "nbformat": 4,
 "nbformat_minor": 2
}
